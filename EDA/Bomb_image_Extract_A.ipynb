{
 "cells": [
  {
   "cell_type": "code",
   "execution_count": 1,
   "id": "94f1883f",
   "metadata": {},
   "outputs": [],
   "source": [
    "import matplotlib.pyplot as plt\n",
    "import pandas as pd\n",
    "import os\n",
    "import functools\n",
    "from tqdm.auto import tqdm"
   ]
  },
  {
   "cell_type": "code",
   "execution_count": 2,
   "id": "8ce5710b-9b11-413d-a0fa-dbaaf6e4be81",
   "metadata": {},
   "outputs": [],
   "source": [
    "dataset_path = os.path.join(os.path.abspath(os.path.curdir),'example_data')\n",
    "trainFiles = os.listdir(dataset_path)"
   ]
  },
  {
   "cell_type": "code",
   "execution_count": 3,
   "id": "4fd24b7b",
   "metadata": {},
   "outputs": [],
   "source": [
    "categories=[]  # 0:정상, 1:B / 2:C / 3:F\n",
    "train_files = []\n",
    "for trainFile in trainFiles:\n",
    "    if '.csv' in trainFile:\n",
    "        categorie=trainFile.split(\"_\")[0]\n",
    "        train_files.append(trainFile)\n",
    "        if categorie == \"A\":\n",
    "            categories.append(\"0\")\n",
    "        elif categorie == \"B\":\n",
    "            categories.append(\"1\")\n",
    "        elif categorie == \"C\":\n",
    "            categories.append(\"2\")\n",
    "        elif categorie == \"F\":\n",
    "            categories.append(\"3\")"
   ]
  },
  {
   "cell_type": "code",
   "execution_count": 4,
   "id": "588c7c83-3c1f-41c8-a03d-b1bbf73ff9d4",
   "metadata": {},
   "outputs": [],
   "source": [
    "import numpy as np\n",
    "from PIL import Image\n",
    "from scipy import optimize"
   ]
  },
  {
   "cell_type": "code",
   "execution_count": 5,
   "id": "dc7e7365-64ea-48ec-863e-f422b725dd75",
   "metadata": {},
   "outputs": [],
   "source": [
    "def calc_R(xc,yc):\n",
    "    \"\"\" calculate the distance of each data points from the center (xc, yc) \"\"\"\n",
    "    return np.sqrt((x-xc)**2 + (y-yc)**2)\n",
    "\n",
    "def f_2(c):\n",
    "    Ri = calc_R(*c)\n",
    "    return Ri - Ri.mean()"
   ]
  },
  {
   "cell_type": "code",
   "execution_count": 15,
   "id": "f0b9eee6-4a6a-473e-a089-a509a794682d",
   "metadata": {
    "tags": []
   },
   "outputs": [],
   "source": [
    "from mpl_toolkits.mplot3d import Axes3D\n",
    "def d3_now_image(train_files):\n",
    "    save_dir = os.path.join(os.path.abspath(os.path.curdir) , '3D_image')\n",
    "    for file_name in train_files:\n",
    "        if '.csv' in file_name:\n",
    "            xs,ys,zs = get_3d_coord_data(file_name)\n",
    "            \n",
    "            fig = plt.figure(figsize=(12, 9))\n",
    "            ax = fig.add_subplot(111, projection='3d')\n",
    "            ax.scatter(xs, ys, zs, c=zs, cmap=\"inferno\", s=5, alpha=0.5)\n",
    "            fig.savefig(os.path.join(save_dir,file_name+'.png'), bbox_inches = 'tight')"
   ]
  },
  {
   "cell_type": "code",
   "execution_count": 19,
   "id": "fae85f5c-a626-4a6b-95e9-0c17c6627914",
   "metadata": {},
   "outputs": [],
   "source": [
    "def get_3d_coord_data(file_name):\n",
    "    df = pd.read_csv(os.path.join(dataset_path,file_name), header=None, index_col=None, names=None)\n",
    "\n",
    "    #위에 2줄 아래 3줄 제거 -> 결측치 , 순서\n",
    "    df = df[2:-3]\n",
    "\n",
    "    #왼쪽 1열 우측 2열 제거 -> 결측치\n",
    "    df = df.drop(df.columns[0], axis = 1)\n",
    "    for i in range(0, 2):\n",
    "        df = df.drop(df.columns[-1], axis = 1)\n",
    "\n",
    "    row,col = df.shape\n",
    "\n",
    "    views = df.assign(g=df.index % 3)\n",
    "    xs = views.query('g==0')\n",
    "    ys = views.query('g==1')\n",
    "    zs = views.query('g==2')[:-1]\n",
    "    \n",
    "    return xs,ys,zs"
   ]
  },
  {
   "cell_type": "code",
   "execution_count": 22,
   "id": "22182bcf-b11a-47c6-bdb4-03444b3f52b0",
   "metadata": {},
   "outputs": [],
   "source": [
    "from matplotlib import animation \n",
    "def d3_now_gif(train_files):\n",
    "    save_dir = os.path.join(os.path.abspath(os.path.curdir) , 'gif_image')\n",
    "    for file_name in tqdm(train_files):\n",
    "        if '.csv' in file_name:\n",
    "            xs,ys,zs = get_3d_coord_data(file_name)\n",
    "            fig, axs = plt.subplots(ncols=1, figsize=(10, 5), subplot_kw={\"projection\":\"3d\"})\n",
    "\n",
    "            fontlabel = {\"fontsize\":\"large\", \"color\":\"gray\", \"fontweight\":\"bold\"}\n",
    "\n",
    "            def init():\n",
    "                axs.set_xlabel(\"X\", fontdict=fontlabel, labelpad=16)\n",
    "                axs.set_ylabel(\"Y\", fontdict=fontlabel, labelpad=16)\n",
    "                axs.set_title(\"Z\", fontdict=fontlabel)\n",
    "\n",
    "                axs.scatter(xs, ys, zs, c=zs, cmap=\"inferno\", s=5, alpha=0.5)\n",
    "\n",
    "                return fig,\n",
    "\n",
    "            def animate(i):\n",
    "                axs.view_init(elev=30., azim=i)\n",
    "                return fig,\n",
    "\n",
    "            # Animate\n",
    "            anim = animation.FuncAnimation(fig, animate, init_func=init,\n",
    "                                           frames=360, interval=20, blit=True)\n",
    "            # Save\n",
    "            anim.save(os.path.join(save_dir,file_name+'.gif'), fps=30)"
   ]
  },
  {
   "cell_type": "code",
   "execution_count": null,
   "id": "e7457e74-88e3-4722-a5e6-dd126a27e835",
   "metadata": {},
   "outputs": [],
   "source": [
    "d3_now_image(trainFiles)"
   ]
  },
  {
   "cell_type": "code",
   "execution_count": null,
   "id": "f972f8f2-bd64-4fbf-a022-2da6665d760e",
   "metadata": {},
   "outputs": [
    {
     "data": {
      "application/vnd.jupyter.widget-view+json": {
       "model_id": "409dea084a4b4f38b766824619cad162",
       "version_major": 2,
       "version_minor": 0
      },
      "text/plain": [
       "  0%|          | 0/22 [00:00<?, ?it/s]"
      ]
     },
     "metadata": {},
     "output_type": "display_data"
    },
    {
     "name": "stderr",
     "output_type": "stream",
     "text": [
      "MovieWriter ffmpeg unavailable; using Pillow instead.\n"
     ]
    }
   ],
   "source": [
    "d3_now_gif(trainFiles)"
   ]
  },
  {
   "cell_type": "code",
   "execution_count": null,
   "id": "2832d2af-d808-43dd-a743-fe1e7cbb3bb0",
   "metadata": {},
   "outputs": [],
   "source": [
    "from plotly.offline import plot"
   ]
  },
  {
   "cell_type": "code",
   "execution_count": null,
   "id": "2ad3b259-0bf8-4945-b193-d4cae712de00",
   "metadata": {},
   "outputs": [],
   "source": []
  },
  {
   "cell_type": "code",
   "execution_count": null,
   "id": "28df115f-5566-4fe8-8c13-1d5bff8e1401",
   "metadata": {},
   "outputs": [],
   "source": []
  },
  {
   "cell_type": "markdown",
   "id": "66ac65cc-211d-4acd-8f6a-9df8ebed738e",
   "metadata": {},
   "source": [
    "## 기존 코드"
   ]
  },
  {
   "cell_type": "code",
   "execution_count": null,
   "id": "2b6a2c6c-0d40-48a2-9907-05a590a7d144",
   "metadata": {},
   "outputs": [],
   "source": [
    "def read_file(pandas):\n",
    "    \n",
    "    def calc_R(xc, yc):\n",
    "        \"\"\" calculate the distance of each data points from the center (xc, yc) \"\"\"\n",
    "        return np.sqrt((x-xc)**2 + (y-yc)**2)\n",
    "\n",
    "     # : for output feedback\n",
    "    def countcalls(fn):\n",
    "        \"decorator function count function calls\"\n",
    "\n",
    "        @functools.wraps(fn)\n",
    "        def wrapped(*args):\n",
    "            wrapped.ncalls +=1\n",
    "            return fn(*args)\n",
    "\n",
    "        wrapped.ncalls = 0\n",
    "        return wrapped\n",
    "\n",
    "    @countcalls\n",
    "    def f_2(c):\n",
    "        Ri = calc_R(*c)\n",
    "        return Ri - Ri.mean()\n",
    "    \n",
    "    #첫번째 열 , 마지막 3열 제거\n",
    "    pandas = pandas.drop(pandas.columns[0], axis = 1)\n",
    "    for i in range(0, 3):\n",
    "        pandas = pandas.drop(pandas.columns[-1], axis = 1)\n",
    "\n",
    "    #각 스캔 파일의 사이즈 확인\n",
    "    # (7002, 649)\n",
    "    e, f = pandas.shape\n",
    "\n",
    "    #각 스캔 파일 결측치 보충을 위한 선형보간법 사용  \n",
    "    for i in range(0,e):\n",
    "        for j in range(1,f):\n",
    "            if pandas.at[i,j]  < 2  :\n",
    "                pandas.at[i,j] = 0\n",
    "            elif pandas.at[i,j]  > 7:\n",
    "                pandas.at[i,j] = 0\n",
    "                \n",
    "    # 0을 np.NaN으로 교체후 선형 보간\n",
    "    pandas = pandas.replace(0, np.NaN)\n",
    "    pandas = pandas.interpolate(method='linear', axis = 1)            \n",
    "\n",
    "    # 4,260개 행 데이터 추출(284*5*3)\n",
    "#     pandas = pandas.loc[e-4662:e-402,:] #2340\t 6600 기준이 뭔지 모르겠음\n",
    "\n",
    "    pac=[]\n",
    "\n",
    "    for i in range(3,len(pandas)+1,3):\n",
    "        # 1번째 행 인덱스만 추출\n",
    "        if i%3==0:\n",
    "            pac.append(i-1)\n",
    "        #추출한 인덱스 가지는 df 생성\n",
    "    pandas = pandas.iloc[pac,:]\n",
    "    \n",
    "    # 결측치 교체 후 선형보간\n",
    "    pandas = pandas.replace(0, np.NaN)\n",
    "    pandas = pandas.interpolate(method='linear', axis = 1)\n",
    "\n",
    "\n",
    "    #데이터 이미지화\n",
    "    pandas_orig = []\n",
    "\n",
    "    for i in range(0,len(pandas)):\n",
    "        method_2  = \"Fitting Circle\"\n",
    "\n",
    "        # Coordinates of the 2D points\n",
    "        x = np.linspace(-10.2,10.5,645) #(-10.2 ~ 10.5 까지 645개의 데이터를 일정 간격으로 채움)\n",
    "        y = pandas.iloc[i,:]            # 행 데이터를 가져옴\n",
    "        basename = 'arc'\n",
    "\n",
    "        x_m = np.mean(x)\n",
    "        y_m = np.mean(y)\n",
    "\n",
    "         # 최소 제곱법 : 근사적으로 구하려는 해와 실제 해의 오차의 제곱의 합이 최소가 되는 해를 구하는 방법이다.\n",
    "         # 근사적으로 구하려는 해중 오차가 제일 작은 해를 구함 == center_2\n",
    "        center_estimate = x_m, y_m\n",
    "        center_2, _ = optimize.leastsq(f_2, center_estimate)\n",
    "\n",
    "        xc_2, yc_2 = center_2 #구한 해의 원점\n",
    "\n",
    "        R=np.sqrt((xc_2-x)**2+(yc_2-y)**2) # 구한 해와 오차를 계산\n",
    "        pandas_orig.append(R-np.min(R))    # 오차중 최소 값과 차이를 추가\n",
    "        \n",
    "    pandas_orig = np.array(pandas_orig)    # 배열로 리턴\n",
    "    \n",
    "    return pandas_orig"
   ]
  },
  {
   "cell_type": "code",
   "execution_count": null,
   "id": "24ef3c26-871a-4a6e-b0b7-bd33a8aeeeb9",
   "metadata": {},
   "outputs": [],
   "source": [
    "import os\n",
    "for idx,train_file in enumerate(trainFiles):\n",
    "    if '.csv' in train_file:\n",
    "        df = pd.read_csv(os.path.join(dataset_path,train_file), header=None, index_col=None, names=None)\n",
    "        pandas_orig = read_file(df)\n",
    "        plt.figure(figsize = (5,10), frameon=False)\n",
    "        plt.imshow(pandas_orig, vmin = 0, vmax = 0.5, cmap='gist_yarg')\n",
    "        #plt.colorbar(shrink=0.7) # colorbar의 길이를 조정\n",
    "        plt.axis('off')\n",
    "        plt.savefig(os.path.join(dataset_path,'picture/'+train_file+'.png'))\n",
    "        print(idx)"
   ]
  },
  {
   "cell_type": "code",
   "execution_count": null,
   "id": "31e9411c-fe2a-432d-a525-aed6ebebf1a5",
   "metadata": {},
   "outputs": [],
   "source": []
  }
 ],
 "metadata": {
  "kernelspec": {
   "display_name": "Python 3",
   "language": "python",
   "name": "python3"
  },
  "language_info": {
   "codemirror_mode": {
    "name": "ipython",
    "version": 3
   },
   "file_extension": ".py",
   "mimetype": "text/x-python",
   "name": "python",
   "nbconvert_exporter": "python",
   "pygments_lexer": "ipython3",
   "version": "3.8.8"
  }
 },
 "nbformat": 4,
 "nbformat_minor": 5
}
